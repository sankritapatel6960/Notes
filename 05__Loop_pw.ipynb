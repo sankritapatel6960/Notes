{
  "nbformat": 4,
  "nbformat_minor": 0,
  "metadata": {
    "colab": {
      "provenance": [],
      "authorship_tag": "ABX9TyMHBpt3y2S9shrrG0ka/2W1",
      "include_colab_link": true
    },
    "kernelspec": {
      "name": "python3",
      "display_name": "Python 3"
    },
    "language_info": {
      "name": "python"
    }
  },
  "cells": [
    {
      "cell_type": "markdown",
      "metadata": {
        "id": "view-in-github",
        "colab_type": "text"
      },
      "source": [
        "<a href=\"https://colab.research.google.com/github/SankritaPatel/Notes/blob/main/05__Loop_pw.ipynb\" target=\"_parent\"><img src=\"https://colab.research.google.com/assets/colab-badge.svg\" alt=\"Open In Colab\"/></a>"
      ]
    },
    {
      "cell_type": "code",
      "execution_count": 1,
      "metadata": {
        "id": "Pt-oZ0V18IdB"
      },
      "outputs": [],
      "source": [
        "l = [1, 2, 3, 4,5]"
      ]
    },
    {
      "cell_type": "code",
      "source": [
        "for i in l:\n",
        "  print(i, type(i))"
      ],
      "metadata": {
        "colab": {
          "base_uri": "https://localhost:8080/"
        },
        "id": "PxwtMWvP8Lk-",
        "outputId": "4582fb36-2f45-4bc3-fd26-154814126d11"
      },
      "execution_count": 2,
      "outputs": [
        {
          "output_type": "stream",
          "name": "stdout",
          "text": [
            "1 <class 'int'>\n",
            "2 <class 'int'>\n",
            "3 <class 'int'>\n",
            "4 <class 'int'>\n",
            "5 <class 'int'>\n"
          ]
        }
      ]
    },
    {
      "cell_type": "code",
      "source": [
        "l1 = ['sankrita', 'Patel','Harsh', 'Singh']"
      ],
      "metadata": {
        "id": "TwSFF2DJ8PFI"
      },
      "execution_count": 3,
      "outputs": []
    },
    {
      "cell_type": "code",
      "source": [
        "for i in l1:\n",
        "  print(i, type(i))"
      ],
      "metadata": {
        "colab": {
          "base_uri": "https://localhost:8080/"
        },
        "id": "Lx0YZo258WqP",
        "outputId": "7f8bf3ed-bc2e-46e9-ad42-0faa645c628d"
      },
      "execution_count": 4,
      "outputs": [
        {
          "output_type": "stream",
          "name": "stdout",
          "text": [
            "sankrita <class 'str'>\n",
            "Patel <class 'str'>\n",
            "Harsh <class 'str'>\n",
            "Singh <class 'str'>\n"
          ]
        }
      ]
    },
    {
      "cell_type": "code",
      "source": [
        "for i in l1:\n",
        "  print(i)\n",
        "else:\n",
        "  print(\"do Something\")"
      ],
      "metadata": {
        "colab": {
          "base_uri": "https://localhost:8080/"
        },
        "id": "mnVnuL-A8ZsL",
        "outputId": "3e840dc3-925c-4cc1-ed32-3f0aec5a7500"
      },
      "execution_count": 5,
      "outputs": [
        {
          "output_type": "stream",
          "name": "stdout",
          "text": [
            "sankrita\n",
            "Patel\n",
            "Harsh\n",
            "Singh\n",
            "do Something\n"
          ]
        }
      ]
    },
    {
      "cell_type": "markdown",
      "source": [
        "If for loop is able to complete then only else will execute"
      ],
      "metadata": {
        "id": "OymGxxYx87VP"
      }
    },
    {
      "cell_type": "code",
      "source": [
        "for i in l1:\n",
        "  if i=='Patel':\n",
        "    break\n",
        "  print(i)"
      ],
      "metadata": {
        "colab": {
          "base_uri": "https://localhost:8080/"
        },
        "id": "GSeJmnPp85xh",
        "outputId": "eefbf5e0-8df5-49d3-a4a5-35266d41097a"
      },
      "execution_count": 6,
      "outputs": [
        {
          "output_type": "stream",
          "name": "stdout",
          "text": [
            "sankrita\n"
          ]
        }
      ]
    },
    {
      "cell_type": "code",
      "source": [
        "for i in l1:\n",
        "  if i=='Patel':\n",
        "    break\n",
        "  print(i)\n",
        "else:\n",
        "  print('Execute this if for loop is able to complete itself.')"
      ],
      "metadata": {
        "colab": {
          "base_uri": "https://localhost:8080/"
        },
        "outputId": "41ef44af-b18d-43ab-af28-9832beabaa6e",
        "id": "8tVcNLsj-MBC"
      },
      "execution_count": 7,
      "outputs": [
        {
          "output_type": "stream",
          "name": "stdout",
          "text": [
            "sankrita\n"
          ]
        }
      ]
    },
    {
      "cell_type": "code",
      "source": [
        "for i in l1:\n",
        "  if(i=='Patel'):\n",
        "    continue\n",
        "  print(i)\n"
      ],
      "metadata": {
        "colab": {
          "base_uri": "https://localhost:8080/"
        },
        "id": "eyo_jRyh-U8y",
        "outputId": "54b7a13d-5a80-4e86-9c01-8cc23e7a070b"
      },
      "execution_count": 8,
      "outputs": [
        {
          "output_type": "stream",
          "name": "stdout",
          "text": [
            "sankrita\n",
            "Harsh\n",
            "Singh\n"
          ]
        }
      ]
    },
    {
      "cell_type": "code",
      "source": [
        "for i in l1:\n",
        "  if(i=='Patel'):\n",
        "    continue\n",
        "  print(i)\n",
        "else:\n",
        "  print(\"Do something\")"
      ],
      "metadata": {
        "colab": {
          "base_uri": "https://localhost:8080/"
        },
        "id": "hiGOo4_l-2H5",
        "outputId": "91a0c03b-9e11-4f29-aa7f-87616139602f"
      },
      "execution_count": 9,
      "outputs": [
        {
          "output_type": "stream",
          "name": "stdout",
          "text": [
            "sankrita\n",
            "Harsh\n",
            "Singh\n",
            "Do something\n"
          ]
        }
      ]
    },
    {
      "cell_type": "code",
      "source": [
        "range(5)"
      ],
      "metadata": {
        "colab": {
          "base_uri": "https://localhost:8080/"
        },
        "id": "DMBwSKrF_md8",
        "outputId": "4abe0d6a-25ad-4119-c67d-3f85c02e459c"
      },
      "execution_count": 10,
      "outputs": [
        {
          "output_type": "execute_result",
          "data": {
            "text/plain": [
              "range(0, 5)"
            ]
          },
          "metadata": {},
          "execution_count": 10
        }
      ]
    },
    {
      "cell_type": "code",
      "source": [
        "list(range(5))"
      ],
      "metadata": {
        "colab": {
          "base_uri": "https://localhost:8080/"
        },
        "id": "UmRyBjvb_6G4",
        "outputId": "36c1b259-22d2-470d-a441-b2a2a47ed2d4"
      },
      "execution_count": 11,
      "outputs": [
        {
          "output_type": "execute_result",
          "data": {
            "text/plain": [
              "[0, 1, 2, 3, 4]"
            ]
          },
          "metadata": {},
          "execution_count": 11
        }
      ]
    },
    {
      "cell_type": "code",
      "source": [
        "list(range(1, 6))"
      ],
      "metadata": {
        "colab": {
          "base_uri": "https://localhost:8080/"
        },
        "id": "v3RCUN6OAF6D",
        "outputId": "b009ba7a-723a-45c1-a652-3c85969a30d7"
      },
      "execution_count": 12,
      "outputs": [
        {
          "output_type": "execute_result",
          "data": {
            "text/plain": [
              "[1, 2, 3, 4, 5]"
            ]
          },
          "metadata": {},
          "execution_count": 12
        }
      ]
    },
    {
      "cell_type": "code",
      "source": [
        "list(range(0,5,1))"
      ],
      "metadata": {
        "colab": {
          "base_uri": "https://localhost:8080/"
        },
        "id": "vJ9njuhoGjZ6",
        "outputId": "c4d7cf3f-97f3-4f19-b8c9-1b4ced9026b3"
      },
      "execution_count": 17,
      "outputs": [
        {
          "output_type": "execute_result",
          "data": {
            "text/plain": [
              "[0, 1, 2, 3, 4]"
            ]
          },
          "metadata": {},
          "execution_count": 17
        }
      ]
    },
    {
      "cell_type": "code",
      "source": [
        "list(range(0,20, 2))"
      ],
      "metadata": {
        "colab": {
          "base_uri": "https://localhost:8080/"
        },
        "id": "PB7iDBLfAJUr",
        "outputId": "1feca70a-4ffa-4284-c9e0-7d5389cb71ea"
      },
      "execution_count": 13,
      "outputs": [
        {
          "output_type": "execute_result",
          "data": {
            "text/plain": [
              "[0, 2, 4, 6, 8, 10, 12, 14, 16, 18]"
            ]
          },
          "metadata": {},
          "execution_count": 13
        }
      ]
    },
    {
      "cell_type": "code",
      "source": [
        "list(range(-10,0))"
      ],
      "metadata": {
        "colab": {
          "base_uri": "https://localhost:8080/"
        },
        "id": "ts-x16l9GfWe",
        "outputId": "e4d4c4e9-01fb-458f-d249-c752a56be879"
      },
      "execution_count": 16,
      "outputs": [
        {
          "output_type": "execute_result",
          "data": {
            "text/plain": [
              "[-10, -9, -8, -7, -6, -5, -4, -3, -2, -1]"
            ]
          },
          "metadata": {},
          "execution_count": 16
        }
      ]
    },
    {
      "cell_type": "code",
      "source": [
        "for i in range(len(l1)):\n",
        "  print(l1[i])"
      ],
      "metadata": {
        "colab": {
          "base_uri": "https://localhost:8080/"
        },
        "id": "DMNPBeDUAPkr",
        "outputId": "1e0b36de-b029-4340-e3e4-9f79c9c4db75"
      },
      "execution_count": 15,
      "outputs": [
        {
          "output_type": "stream",
          "name": "stdout",
          "text": [
            "sankrita\n",
            "Patel\n",
            "Harsh\n",
            "Singh\n"
          ]
        }
      ]
    },
    {
      "cell_type": "code",
      "source": [
        "for i in range(len(l1)-1, -1, -1): #reverse\n",
        "  print(l1[i])"
      ],
      "metadata": {
        "colab": {
          "base_uri": "https://localhost:8080/"
        },
        "id": "2LqTYW_0BiiG",
        "outputId": "51e9086e-a3ad-40c0-d8ef-0a0355f6e678"
      },
      "execution_count": 21,
      "outputs": [
        {
          "output_type": "stream",
          "name": "stdout",
          "text": [
            "Singh\n",
            "Harsh\n",
            "Patel\n",
            "sankrita\n"
          ]
        }
      ]
    },
    {
      "cell_type": "code",
      "source": [
        "l2 = [23, 5, 45, 56, 67, 78, 87, 8998, 9,9,8]"
      ],
      "metadata": {
        "id": "5XH82EK3BydY"
      },
      "execution_count": 19,
      "outputs": []
    },
    {
      "cell_type": "code",
      "source": [
        "for i in range(0,len(l2),2):\n",
        "  print(l2[i])"
      ],
      "metadata": {
        "colab": {
          "base_uri": "https://localhost:8080/"
        },
        "id": "9z2jZj23Crro",
        "outputId": "3db008f3-2cab-4f9b-b486-e5c702aba8ca"
      },
      "execution_count": 20,
      "outputs": [
        {
          "output_type": "stream",
          "name": "stdout",
          "text": [
            "23\n",
            "45\n",
            "67\n",
            "87\n",
            "9\n",
            "8\n"
          ]
        }
      ]
    },
    {
      "cell_type": "code",
      "source": [
        "l2[0]"
      ],
      "metadata": {
        "colab": {
          "base_uri": "https://localhost:8080/"
        },
        "id": "yXQrtlB8Cygf",
        "outputId": "ef76afd2-b0fc-4e76-83e6-ef556d495774"
      },
      "execution_count": 22,
      "outputs": [
        {
          "output_type": "execute_result",
          "data": {
            "text/plain": [
              "23"
            ]
          },
          "metadata": {},
          "execution_count": 22
        }
      ]
    },
    {
      "cell_type": "code",
      "source": [
        "l = [1, 2, 3,4,7, 8, 98]"
      ],
      "metadata": {
        "id": "lBpMZo-DDSqv"
      },
      "execution_count": 23,
      "outputs": []
    },
    {
      "cell_type": "code",
      "source": [
        "result=0\n",
        "for i in l:\n",
        "  result+=i\n",
        "print(result)"
      ],
      "metadata": {
        "colab": {
          "base_uri": "https://localhost:8080/"
        },
        "id": "wg99r-jDDiSO",
        "outputId": "f510edbd-0923-4d41-b33a-c2ac2d480c58"
      },
      "execution_count": 24,
      "outputs": [
        {
          "output_type": "stream",
          "name": "stdout",
          "text": [
            "123\n"
          ]
        }
      ]
    },
    {
      "cell_type": "code",
      "source": [
        "t = (1, 2, 3, 4, 5)"
      ],
      "metadata": {
        "id": "drAqzOCkD0oo"
      },
      "execution_count": 25,
      "outputs": []
    },
    {
      "cell_type": "code",
      "source": [
        "for i in t:\n",
        "  print(i, type(i))"
      ],
      "metadata": {
        "colab": {
          "base_uri": "https://localhost:8080/"
        },
        "id": "tJ6DHS4_Ea3z",
        "outputId": "176bf232-575e-4ea1-df0b-9c51d61a4791"
      },
      "execution_count": 26,
      "outputs": [
        {
          "output_type": "stream",
          "name": "stdout",
          "text": [
            "1 <class 'int'>\n",
            "2 <class 'int'>\n",
            "3 <class 'int'>\n",
            "4 <class 'int'>\n",
            "5 <class 'int'>\n"
          ]
        }
      ]
    },
    {
      "cell_type": "code",
      "source": [
        "result=0\n",
        "for i in t:\n",
        "  result+=i\n",
        "print(result)"
      ],
      "metadata": {
        "colab": {
          "base_uri": "https://localhost:8080/"
        },
        "id": "cHOrrsr6Ec53",
        "outputId": "85cecc49-e806-46d9-f225-713ba0aada28"
      },
      "execution_count": 27,
      "outputs": [
        {
          "output_type": "stream",
          "name": "stdout",
          "text": [
            "15\n"
          ]
        }
      ]
    },
    {
      "cell_type": "code",
      "source": [
        "s = {1,2,3,4,5,\"sankrita\", \"Patel\"}"
      ],
      "metadata": {
        "id": "u60J3biREiZj"
      },
      "execution_count": 28,
      "outputs": []
    },
    {
      "cell_type": "code",
      "source": [
        "for i in s:\n",
        "  print(i)"
      ],
      "metadata": {
        "colab": {
          "base_uri": "https://localhost:8080/"
        },
        "id": "fdrFDK7dEqSm",
        "outputId": "3e9f6bb8-94df-429e-af2f-95e6a0114cdb"
      },
      "execution_count": 29,
      "outputs": [
        {
          "output_type": "stream",
          "name": "stdout",
          "text": [
            "1\n",
            "2\n",
            "3\n",
            "4\n",
            "5\n",
            "Patel\n",
            "sankrita\n"
          ]
        }
      ]
    },
    {
      "cell_type": "code",
      "source": [
        "s = 'pwskills'"
      ],
      "metadata": {
        "id": "7N9NBW0jEtgS"
      },
      "execution_count": 30,
      "outputs": []
    },
    {
      "cell_type": "code",
      "source": [
        "for i in s:\n",
        "  print(i)"
      ],
      "metadata": {
        "colab": {
          "base_uri": "https://localhost:8080/"
        },
        "id": "ba0Vpc9xEw_r",
        "outputId": "e094d3a1-fdb4-4048-f751-02940bd3757f"
      },
      "execution_count": 31,
      "outputs": [
        {
          "output_type": "stream",
          "name": "stdout",
          "text": [
            "p\n",
            "w\n",
            "s\n",
            "k\n",
            "i\n",
            "l\n",
            "l\n",
            "s\n"
          ]
        }
      ]
    },
    {
      "cell_type": "code",
      "source": [
        "d = {\"name\":\"sudh\", \"class\":\"Data Science\", \"topic\": [\"Python\", \"stats\", \"ML\", \"DL\", \"CV\", \"NLP\", \"Resume\", \"Interview\"]}"
      ],
      "metadata": {
        "id": "tUowTorbEzMu"
      },
      "execution_count": 32,
      "outputs": []
    },
    {
      "cell_type": "code",
      "source": [
        "d"
      ],
      "metadata": {
        "colab": {
          "base_uri": "https://localhost:8080/"
        },
        "id": "4poc_EmPFThB",
        "outputId": "66e9b9d7-0d1a-42ae-bf7e-776f729a574d"
      },
      "execution_count": 33,
      "outputs": [
        {
          "output_type": "execute_result",
          "data": {
            "text/plain": [
              "{'name': 'sudh',\n",
              " 'class': 'Data Science',\n",
              " 'topic': ['Python', 'stats', 'ML', 'DL', 'CV', 'NLP', 'Resume', 'Interview']}"
            ]
          },
          "metadata": {},
          "execution_count": 33
        }
      ]
    },
    {
      "cell_type": "code",
      "source": [
        "d.keys()"
      ],
      "metadata": {
        "colab": {
          "base_uri": "https://localhost:8080/"
        },
        "id": "0Qoyaj8VFf4G",
        "outputId": "969e1f2d-fff5-42ec-de43-785f7b88f176"
      },
      "execution_count": 34,
      "outputs": [
        {
          "output_type": "execute_result",
          "data": {
            "text/plain": [
              "dict_keys(['name', 'class', 'topic'])"
            ]
          },
          "metadata": {},
          "execution_count": 34
        }
      ]
    },
    {
      "cell_type": "code",
      "source": [
        "d.values()"
      ],
      "metadata": {
        "colab": {
          "base_uri": "https://localhost:8080/"
        },
        "id": "a7kKaIwEFlDH",
        "outputId": "0f9c5afe-b6ea-4d52-fadf-de66c4e810c3"
      },
      "execution_count": 35,
      "outputs": [
        {
          "output_type": "execute_result",
          "data": {
            "text/plain": [
              "dict_values(['sudh', 'Data Science', ['Python', 'stats', 'ML', 'DL', 'CV', 'NLP', 'Resume', 'Interview']])"
            ]
          },
          "metadata": {},
          "execution_count": 35
        }
      ]
    },
    {
      "cell_type": "code",
      "source": [
        "for i in d.keys():\n",
        "  print(d[i])\n"
      ],
      "metadata": {
        "colab": {
          "base_uri": "https://localhost:8080/"
        },
        "id": "oT63DGqCFm-W",
        "outputId": "1a734fcd-c1ab-4502-83c8-b6f7d6326c9d"
      },
      "execution_count": 36,
      "outputs": [
        {
          "output_type": "stream",
          "name": "stdout",
          "text": [
            "sudh\n",
            "Data Science\n",
            "['Python', 'stats', 'ML', 'DL', 'CV', 'NLP', 'Resume', 'Interview']\n"
          ]
        }
      ]
    },
    {
      "cell_type": "code",
      "source": [
        "di = {'A':20, 'B':40, 'C':80}\n",
        "sum = 0\n",
        "for i in di.keys():\n",
        "  sum+=di[i]\n",
        "print(sum)"
      ],
      "metadata": {
        "colab": {
          "base_uri": "https://localhost:8080/"
        },
        "id": "8rNdDY4ZLEtx",
        "outputId": "22cd47d3-c3bd-4dad-956e-c2d8256ec18c"
      },
      "execution_count": 38,
      "outputs": [
        {
          "output_type": "stream",
          "name": "stdout",
          "text": [
            "140\n"
          ]
        }
      ]
    },
    {
      "cell_type": "code",
      "source": [
        "for i in d.values():\n",
        "  print(i)"
      ],
      "metadata": {
        "colab": {
          "base_uri": "https://localhost:8080/"
        },
        "id": "EGR1ehfHFt6-",
        "outputId": "58db2b44-19db-4eae-f4c6-c99a2b8049c2"
      },
      "execution_count": 39,
      "outputs": [
        {
          "output_type": "stream",
          "name": "stdout",
          "text": [
            "sudh\n",
            "Data Science\n",
            "['Python', 'stats', 'ML', 'DL', 'CV', 'NLP', 'Resume', 'Interview']\n"
          ]
        }
      ]
    },
    {
      "cell_type": "code",
      "source": [
        "for i in d.items():\n",
        "  print(i)"
      ],
      "metadata": {
        "colab": {
          "base_uri": "https://localhost:8080/"
        },
        "id": "pjOxaQxHF9ej",
        "outputId": "9a447dd9-3163-4c61-d5ff-6642c9bb941f"
      },
      "execution_count": 40,
      "outputs": [
        {
          "output_type": "stream",
          "name": "stdout",
          "text": [
            "('name', 'sudh')\n",
            "('class', 'Data Science')\n",
            "('topic', ['Python', 'stats', 'ML', 'DL', 'CV', 'NLP', 'Resume', 'Interview'])\n"
          ]
        }
      ]
    },
    {
      "cell_type": "code",
      "source": [
        "a = 1\n",
        "while a<=10:\n",
        "  print(a)\n",
        "  a +=1"
      ],
      "metadata": {
        "colab": {
          "base_uri": "https://localhost:8080/"
        },
        "id": "XMV37TRuGBGp",
        "outputId": "c31cbad3-380f-4beb-8ae3-d1ba612af904"
      },
      "execution_count": 41,
      "outputs": [
        {
          "output_type": "stream",
          "name": "stdout",
          "text": [
            "1\n",
            "2\n",
            "3\n",
            "4\n",
            "5\n",
            "6\n",
            "7\n",
            "8\n",
            "9\n",
            "10\n"
          ]
        }
      ]
    },
    {
      "cell_type": "code",
      "source": [
        "#Sum of the numbers till some point\n",
        "n = int(input(\"Enter Your Limit: \"))\n",
        "result = 0\n",
        "counter = 1\n",
        "while counter<=n:\n",
        "  result+=counter\n",
        "  counter+=1\n",
        "print(result)"
      ],
      "metadata": {
        "colab": {
          "base_uri": "https://localhost:8080/"
        },
        "id": "4NlfEj0gG4Rc",
        "outputId": "cdccf99e-e3e2-4bd7-8fbd-5ef4f2290bc4"
      },
      "execution_count": 43,
      "outputs": [
        {
          "output_type": "stream",
          "name": "stdout",
          "text": [
            "Enter Your Limit: 10\n",
            "55\n"
          ]
        }
      ]
    },
    {
      "cell_type": "code",
      "source": [
        "#Factorial\n",
        "n = int(input(\"Enter number: \"))\n",
        "fact = 1\n",
        "while n>0:\n",
        "  fact*=n\n",
        "  n = n-1\n",
        "print(fact)"
      ],
      "metadata": {
        "colab": {
          "base_uri": "https://localhost:8080/"
        },
        "id": "Yz_sbJsuIb6Y",
        "outputId": "40f97b16-3aaa-42a8-f25b-4f7ec83c9f04"
      },
      "execution_count": null,
      "outputs": [
        {
          "output_type": "stream",
          "name": "stdout",
          "text": [
            "Enter number: 5\n",
            "120\n"
          ]
        }
      ]
    },
    {
      "cell_type": "code",
      "source": [
        "#Fibonacci Series\n",
        "n = int(input(\"Enter number of element you want: \"))\n",
        "x,y = 0,1\n",
        "counter = 0\n",
        "while counter<n:\n",
        "  print(x)\n",
        "  z = x+y\n",
        "  x,y = y,z\n",
        "  counter+=1\n"
      ],
      "metadata": {
        "colab": {
          "base_uri": "https://localhost:8080/"
        },
        "id": "RL4r4DrkJBSC",
        "outputId": "459a9987-a692-4f52-c352-73ddbc226c49"
      },
      "execution_count": 46,
      "outputs": [
        {
          "output_type": "stream",
          "name": "stdout",
          "text": [
            "Enter number of element you want: 5\n",
            "0\n",
            "1\n",
            "1\n",
            "2\n",
            "3\n"
          ]
        }
      ]
    },
    {
      "cell_type": "code",
      "source": [
        "n = int(input())\n",
        "a, b = 0, 1\n",
        "for i in range(n):\n",
        "  print(a)\n",
        "  c = a+b\n",
        "  a , b = b, c"
      ],
      "metadata": {
        "colab": {
          "base_uri": "https://localhost:8080/"
        },
        "id": "tZtUkYltS04x",
        "outputId": "ebf3a14e-0054-4423-c5d5-090064dc7f72"
      },
      "execution_count": 47,
      "outputs": [
        {
          "output_type": "stream",
          "name": "stdout",
          "text": [
            "10\n",
            "0\n",
            "1\n",
            "1\n",
            "2\n",
            "3\n",
            "5\n",
            "8\n",
            "13\n",
            "21\n",
            "34\n"
          ]
        }
      ]
    },
    {
      "cell_type": "code",
      "source": [
        "#Reverse of a string\n",
        "word = input(\"Enter your string for reversal: \")\n",
        "reverse = \"\"\n",
        "length = len(word)\n",
        "while length>0:\n",
        "  reverse+=word[length-1]\n",
        "  length -=1\n",
        "print(\"Reverse is: \",reverse)"
      ],
      "metadata": {
        "colab": {
          "base_uri": "https://localhost:8080/"
        },
        "id": "4oahwwbVKYJz",
        "outputId": "17dbf039-5f87-4596-c0fb-312e3762297f"
      },
      "execution_count": 44,
      "outputs": [
        {
          "output_type": "stream",
          "name": "stdout",
          "text": [
            "Enter your string for reversal: Harsh\n",
            "Reverse is:  hsraH\n"
          ]
        }
      ]
    },
    {
      "cell_type": "code",
      "source": [
        "#Table\n",
        "n = int(input(\"Enter your number: \"))\n",
        "i = 1\n",
        "while i<=10:\n",
        "  print(n,\"* \",i,\"=\",n*i)\n",
        "  i+=1\n"
      ],
      "metadata": {
        "colab": {
          "base_uri": "https://localhost:8080/"
        },
        "id": "66WNdF0OOBn3",
        "outputId": "506f760b-a44a-4cf7-d435-6e17798a4716"
      },
      "execution_count": 49,
      "outputs": [
        {
          "output_type": "stream",
          "name": "stdout",
          "text": [
            "Enter your number: 21\n",
            "21 *  1 = 21\n",
            "21 *  2 = 42\n",
            "21 *  3 = 63\n",
            "21 *  4 = 84\n",
            "21 *  5 = 105\n",
            "21 *  6 = 126\n",
            "21 *  7 = 147\n",
            "21 *  8 = 168\n",
            "21 *  9 = 189\n",
            "21 *  10 = 210\n"
          ]
        }
      ]
    },
    {
      "cell_type": "code",
      "source": [
        "#While else\n",
        "n = int(input())\n",
        "i = 1\n",
        "while i<n:\n",
        "  print(i)\n",
        "  i+=1\n",
        "else:\n",
        "  print(\"This will be executed once your while will complete it successfully.\")"
      ],
      "metadata": {
        "colab": {
          "base_uri": "https://localhost:8080/"
        },
        "id": "ZO75If4rPXnK",
        "outputId": "bea48d91-7e3c-47ff-c54d-2a908a015d91"
      },
      "execution_count": null,
      "outputs": [
        {
          "output_type": "stream",
          "name": "stdout",
          "text": [
            "5\n",
            "1\n",
            "2\n",
            "3\n",
            "4\n",
            "This will be executed once your while will complete it successfully.\n"
          ]
        }
      ]
    },
    {
      "cell_type": "code",
      "source": [
        "n = int(input())\n",
        "i = 1\n",
        "while i<n:\n",
        "  print(i)\n",
        "  if(i==3):\n",
        "    break\n",
        "  i+=1\n",
        "else:\n",
        "  print(\"This will not be executed because your while will not complete.\")"
      ],
      "metadata": {
        "colab": {
          "base_uri": "https://localhost:8080/"
        },
        "id": "i_b0Q92UQD6Q",
        "outputId": "58d96c2c-9230-4e1c-f6d8-30823fcf3141"
      },
      "execution_count": null,
      "outputs": [
        {
          "output_type": "stream",
          "name": "stdout",
          "text": [
            "10\n",
            "1\n",
            "2\n",
            "3\n"
          ]
        }
      ]
    },
    {
      "cell_type": "markdown",
      "source": [
        "Comprehension\n"
      ],
      "metadata": {
        "id": "YCSrNEIIRxJz"
      }
    },
    {
      "cell_type": "code",
      "source": [
        "l = [1, 2, 3, 4, 45, 4]\n",
        "l1 = []\n",
        "for i in l:\n",
        "  l1.append(i*i)\n",
        "print(l1)"
      ],
      "metadata": {
        "colab": {
          "base_uri": "https://localhost:8080/"
        },
        "id": "w20Geqe5QvTj",
        "outputId": "22fd8580-3d1e-413f-c328-918b9b38af13"
      },
      "execution_count": 50,
      "outputs": [
        {
          "output_type": "stream",
          "name": "stdout",
          "text": [
            "[1, 4, 9, 16, 2025, 16]\n"
          ]
        }
      ]
    },
    {
      "cell_type": "code",
      "source": [
        "l = [1, 2, 3, 4, 45, 4]\n",
        "[i**2 for i in l]"
      ],
      "metadata": {
        "colab": {
          "base_uri": "https://localhost:8080/"
        },
        "id": "6o8lBIEAR2rM",
        "outputId": "b5becf51-9ad5-49d9-bb0e-a2f938e368c3"
      },
      "execution_count": 51,
      "outputs": [
        {
          "output_type": "execute_result",
          "data": {
            "text/plain": [
              "[1, 4, 9, 16, 2025, 16]"
            ]
          },
          "metadata": {},
          "execution_count": 51
        }
      ]
    },
    {
      "cell_type": "code",
      "source": [
        "l"
      ],
      "metadata": {
        "colab": {
          "base_uri": "https://localhost:8080/"
        },
        "id": "2bKxez9YSWJ6",
        "outputId": "cca62edd-2a04-4da5-e448-86a0e5546c9c"
      },
      "execution_count": 52,
      "outputs": [
        {
          "output_type": "execute_result",
          "data": {
            "text/plain": [
              "[1, 2, 3, 4, 45, 4]"
            ]
          },
          "metadata": {},
          "execution_count": 52
        }
      ]
    },
    {
      "cell_type": "code",
      "source": [
        "[i for i in l if i%2==0]"
      ],
      "metadata": {
        "colab": {
          "base_uri": "https://localhost:8080/"
        },
        "id": "2ZHAG5e8Scdy",
        "outputId": "76d5a7db-9d06-4932-d828-eadca742c3eb"
      },
      "execution_count": 53,
      "outputs": [
        {
          "output_type": "execute_result",
          "data": {
            "text/plain": [
              "[2, 4, 4]"
            ]
          },
          "metadata": {},
          "execution_count": 53
        }
      ]
    },
    {
      "cell_type": "code",
      "source": [
        "l1 = [\"sudh\", \"pwskills\", \"Kumar\", \"data science master\"]"
      ],
      "metadata": {
        "id": "otuiDGSwSiHT"
      },
      "execution_count": 54,
      "outputs": []
    },
    {
      "cell_type": "code",
      "source": [
        "[i.upper() for i in l1]"
      ],
      "metadata": {
        "colab": {
          "base_uri": "https://localhost:8080/"
        },
        "id": "Ah5FBT17S49A",
        "outputId": "8851785b-5417-4956-cd02-1ab336e07126"
      },
      "execution_count": 55,
      "outputs": [
        {
          "output_type": "execute_result",
          "data": {
            "text/plain": [
              "['SUDH', 'PWSKILLS', 'KUMAR', 'DATA SCIENCE MASTER']"
            ]
          },
          "metadata": {},
          "execution_count": 55
        }
      ]
    },
    {
      "cell_type": "code",
      "source": [
        "list(i**2 for i in l)"
      ],
      "metadata": {
        "colab": {
          "base_uri": "https://localhost:8080/"
        },
        "id": "ZYqwTFlQS-el",
        "outputId": "658ca042-ba93-41b7-849d-8df6318583f1"
      },
      "execution_count": null,
      "outputs": [
        {
          "output_type": "execute_result",
          "data": {
            "text/plain": [
              "[1, 4, 9, 16, 2025, 16]"
            ]
          },
          "metadata": {},
          "execution_count": 90
        }
      ]
    },
    {
      "cell_type": "code",
      "source": [
        "d = {\"key1\": 1, \"key2\": 2, \"key3\": 3, \"key4\": 4}"
      ],
      "metadata": {
        "id": "Aj5m6h_mToiF"
      },
      "execution_count": null,
      "outputs": []
    },
    {
      "cell_type": "code",
      "source": [
        "{k:v**2 for k, v in d.items()}"
      ],
      "metadata": {
        "colab": {
          "base_uri": "https://localhost:8080/"
        },
        "id": "yh1oNvhdTyqT",
        "outputId": "b843902e-a480-43d6-ab4e-9c981f531431"
      },
      "execution_count": null,
      "outputs": [
        {
          "output_type": "execute_result",
          "data": {
            "text/plain": [
              "{'key1': 1, 'key2': 4, 'key3': 9, 'key4': 16}"
            ]
          },
          "metadata": {},
          "execution_count": 92
        }
      ]
    },
    {
      "cell_type": "code",
      "source": [
        "d"
      ],
      "metadata": {
        "colab": {
          "base_uri": "https://localhost:8080/"
        },
        "id": "erLcYpEOUI9u",
        "outputId": "9cfc9e60-7980-4aaf-c0ec-abc3b13a7c3e"
      },
      "execution_count": null,
      "outputs": [
        {
          "output_type": "execute_result",
          "data": {
            "text/plain": [
              "{'key1': 1, 'key2': 2, 'key3': 3, 'key4': 4}"
            ]
          },
          "metadata": {},
          "execution_count": 93
        }
      ]
    },
    {
      "cell_type": "code",
      "source": [
        "{k:v for k, v in d.items() if v>1}"
      ],
      "metadata": {
        "colab": {
          "base_uri": "https://localhost:8080/"
        },
        "id": "dBO_2bgkUPut",
        "outputId": "7345bb26-ac2f-4d69-98a9-fa378e75d4cd"
      },
      "execution_count": null,
      "outputs": [
        {
          "output_type": "execute_result",
          "data": {
            "text/plain": [
              "{'key2': 2, 'key3': 3, 'key4': 4}"
            ]
          },
          "metadata": {},
          "execution_count": 94
        }
      ]
    }
  ]
}