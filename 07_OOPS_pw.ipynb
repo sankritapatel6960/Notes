{
  "nbformat": 4,
  "nbformat_minor": 0,
  "metadata": {
    "colab": {
      "provenance": [],
      "authorship_tag": "ABX9TyOhBRHzI+vpmfHeG/7kMVa4"
    },
    "kernelspec": {
      "name": "python3",
      "display_name": "Python 3"
    },
    "language_info": {
      "name": "python"
    }
  },
  "cells": [
    {
      "cell_type": "code",
      "execution_count": 1,
      "metadata": {
        "id": "bxCKXt6bbs02"
      },
      "outputs": [],
      "source": [
        "a = 1"
      ]
    },
    {
      "cell_type": "code",
      "source": [
        "print(type(a))"
      ],
      "metadata": {
        "colab": {
          "base_uri": "https://localhost:8080/"
        },
        "id": "UHOuzLBxeR34",
        "outputId": "6e85a880-2308-4b0e-87ed-b82a40587d6e"
      },
      "execution_count": 2,
      "outputs": [
        {
          "output_type": "stream",
          "name": "stdout",
          "text": [
            "<class 'int'>\n"
          ]
        }
      ]
    },
    {
      "cell_type": "code",
      "source": [
        "print(type(\"pwskills\"))"
      ],
      "metadata": {
        "colab": {
          "base_uri": "https://localhost:8080/"
        },
        "id": "960ce5QneTp0",
        "outputId": "97620a34-e7ed-47cf-ac75-9d9f4f2afaac"
      },
      "execution_count": 3,
      "outputs": [
        {
          "output_type": "stream",
          "name": "stdout",
          "text": [
            "<class 'str'>\n"
          ]
        }
      ]
    },
    {
      "cell_type": "code",
      "source": [
        "class test:\n",
        "  pass"
      ],
      "metadata": {
        "id": "Iam-mMMXeWhe"
      },
      "execution_count": 4,
      "outputs": []
    },
    {
      "cell_type": "code",
      "source": [
        "a = test()"
      ],
      "metadata": {
        "id": "xvsmPrBnflWQ"
      },
      "execution_count": 6,
      "outputs": []
    },
    {
      "cell_type": "code",
      "source": [
        "type(a)"
      ],
      "metadata": {
        "colab": {
          "base_uri": "https://localhost:8080/"
        },
        "id": "b6CIB1gJgvHk",
        "outputId": "225eb5c6-bd26-42c3-a6a0-62aed98b5344"
      },
      "execution_count": 7,
      "outputs": [
        {
          "output_type": "execute_result",
          "data": {
            "text/plain": [
              "__main__.test"
            ]
          },
          "metadata": {},
          "execution_count": 7
        }
      ]
    },
    {
      "cell_type": "code",
      "source": [
        "print(type(a))"
      ],
      "metadata": {
        "colab": {
          "base_uri": "https://localhost:8080/"
        },
        "id": "_htpE5SdgwPj",
        "outputId": "1755b96b-a82e-4f49-82e9-f4a07c028a8d"
      },
      "execution_count": 8,
      "outputs": [
        {
          "output_type": "stream",
          "name": "stdout",
          "text": [
            "<class '__main__.test'>\n"
          ]
        }
      ]
    },
    {
      "cell_type": "code",
      "source": [
        "class pwskills:\n",
        "  def welcome_message(self):\n",
        "    print(\"Welcome to PW Skills\")"
      ],
      "metadata": {
        "id": "ca9Psn4Ig1jx"
      },
      "execution_count": 9,
      "outputs": []
    },
    {
      "cell_type": "code",
      "source": [
        "rohan = pwskills()"
      ],
      "metadata": {
        "id": "LFt-Bf4mhKsX"
      },
      "execution_count": 10,
      "outputs": []
    },
    {
      "cell_type": "code",
      "source": [
        "print(type(rohan))"
      ],
      "metadata": {
        "colab": {
          "base_uri": "https://localhost:8080/"
        },
        "id": "-egWaCw5hUzV",
        "outputId": "47ba7fef-b2ac-42b2-f768-076588b0df6b"
      },
      "execution_count": 11,
      "outputs": [
        {
          "output_type": "stream",
          "name": "stdout",
          "text": [
            "<class '__main__.pwskills'>\n"
          ]
        }
      ]
    },
    {
      "cell_type": "code",
      "source": [
        "rohan.welcome_message()"
      ],
      "metadata": {
        "colab": {
          "base_uri": "https://localhost:8080/"
        },
        "id": "paH1NrzDhWtI",
        "outputId": "6d906243-03e9-478a-86a1-cc518b715dc5"
      },
      "execution_count": 12,
      "outputs": [
        {
          "output_type": "stream",
          "name": "stdout",
          "text": [
            "Welcome to PW Skills\n"
          ]
        }
      ]
    },
    {
      "cell_type": "code",
      "source": [
        "#Specific to Object\n",
        "class pwskills1:\n",
        "  #Constructor\n",
        "  def __init__(self, phone_number, email_id, student_id):\n",
        "    self.phone_number = phone_number\n",
        "    self.email_id = email_id\n",
        "    self.student_id = student_id\n",
        "\n",
        "  def return_student_details(self):\n",
        "    return self.phone_number, self.email_id, self.student_id\n"
      ],
      "metadata": {
        "id": "GgVmPvvXhtNR"
      },
      "execution_count": 13,
      "outputs": []
    },
    {
      "cell_type": "code",
      "source": [
        "rohan = pwskills1()"
      ],
      "metadata": {
        "colab": {
          "base_uri": "https://localhost:8080/",
          "height": 175
        },
        "id": "OLfoL5Drjeoy",
        "outputId": "5c845ced-1ff6-4cf3-b542-75fc6403be59"
      },
      "execution_count": 14,
      "outputs": [
        {
          "output_type": "error",
          "ename": "TypeError",
          "evalue": "ignored",
          "traceback": [
            "\u001b[0;31m---------------------------------------------------------------------------\u001b[0m",
            "\u001b[0;31mTypeError\u001b[0m                                 Traceback (most recent call last)",
            "\u001b[0;32m<ipython-input-14-29c60e4261d5>\u001b[0m in \u001b[0;36m<cell line: 1>\u001b[0;34m()\u001b[0m\n\u001b[0;32m----> 1\u001b[0;31m \u001b[0mrohan\u001b[0m \u001b[0;34m=\u001b[0m \u001b[0mpwskills1\u001b[0m\u001b[0;34m(\u001b[0m\u001b[0;34m)\u001b[0m\u001b[0;34m\u001b[0m\u001b[0;34m\u001b[0m\u001b[0m\n\u001b[0m",
            "\u001b[0;31mTypeError\u001b[0m: pwskills1.__init__() missing 3 required positional arguments: 'phone_number', 'email_id', and 'student_id'"
          ]
        }
      ]
    },
    {
      "cell_type": "code",
      "source": [
        "rohan = pwskills1(9691359943, 'sankrita@gmail.com', 101)"
      ],
      "metadata": {
        "id": "MhizzN4dju5b"
      },
      "execution_count": 15,
      "outputs": []
    },
    {
      "cell_type": "code",
      "source": [
        "rohan.return_student_details()"
      ],
      "metadata": {
        "colab": {
          "base_uri": "https://localhost:8080/"
        },
        "id": "Sh69jly4j9rT",
        "outputId": "20b00d23-2ee8-4d78-fa56-ce91ff4c9dd5"
      },
      "execution_count": null,
      "outputs": [
        {
          "output_type": "execute_result",
          "data": {
            "text/plain": [
              "(9691359943, 'sankrita@gmail.com', 101)"
            ]
          },
          "metadata": {},
          "execution_count": 20
        }
      ]
    },
    {
      "cell_type": "code",
      "source": [
        "gaurav = pwskills1(579383292, 'gaurav@gmail.com', 102)"
      ],
      "metadata": {
        "id": "UKDPbLKIlC_m"
      },
      "execution_count": 16,
      "outputs": []
    },
    {
      "cell_type": "code",
      "source": [
        "gaurav.return_student_details()"
      ],
      "metadata": {
        "colab": {
          "base_uri": "https://localhost:8080/"
        },
        "id": "DbhufN0UlOgh",
        "outputId": "2b8ebd24-5787-4353-9f32-8eb787f2582b"
      },
      "execution_count": 17,
      "outputs": [
        {
          "output_type": "execute_result",
          "data": {
            "text/plain": [
              "(579383292, 'gaurav@gmail.com', 102)"
            ]
          },
          "metadata": {},
          "execution_count": 17
        }
      ]
    },
    {
      "cell_type": "code",
      "source": [
        "gaurav.phone_number"
      ],
      "metadata": {
        "colab": {
          "base_uri": "https://localhost:8080/"
        },
        "id": "6lhNweNol3zs",
        "outputId": "2a800ae1-6eb0-4db4-8f20-0b34b6e6ae2a"
      },
      "execution_count": 18,
      "outputs": [
        {
          "output_type": "execute_result",
          "data": {
            "text/plain": [
              "579383292"
            ]
          },
          "metadata": {},
          "execution_count": 18
        }
      ]
    },
    {
      "cell_type": "code",
      "source": [
        "gaurav.email_id"
      ],
      "metadata": {
        "colab": {
          "base_uri": "https://localhost:8080/",
          "height": 35
        },
        "id": "z7JT9zs3l6pi",
        "outputId": "4e64fa49-edde-4f7d-ff96-0e33cf5b04b1"
      },
      "execution_count": 19,
      "outputs": [
        {
          "output_type": "execute_result",
          "data": {
            "text/plain": [
              "'gaurav@gmail.com'"
            ],
            "application/vnd.google.colaboratory.intrinsic+json": {
              "type": "string"
            }
          },
          "metadata": {},
          "execution_count": 19
        }
      ]
    },
    {
      "cell_type": "code",
      "source": [
        "class pwskills2:\n",
        "  #Constructor\n",
        "  def __init__(self, phone_number, email_id, student_id):\n",
        "    self.phone_number1 = phone_number\n",
        "    self.email_id1 = email_id\n",
        "    self.student_id1 = student_id\n",
        "\n",
        "  def return_student_details(self):\n",
        "    return self.phone_number1, self.email_id1, self.student_id1"
      ],
      "metadata": {
        "id": "LQKHL0BnlSbu"
      },
      "execution_count": 21,
      "outputs": []
    },
    {
      "cell_type": "code",
      "source": [
        "sudh = pwskills2(96790875733, \"sudh@gmail.com\", 103)"
      ],
      "metadata": {
        "id": "myC_bFuxlvqt"
      },
      "execution_count": 22,
      "outputs": []
    },
    {
      "cell_type": "code",
      "source": [
        "sudh"
      ],
      "metadata": {
        "colab": {
          "base_uri": "https://localhost:8080/"
        },
        "id": "jU8Do4Ignhp0",
        "outputId": "71206d6c-3708-494f-980f-d6c9ebab726b"
      },
      "execution_count": 23,
      "outputs": [
        {
          "output_type": "execute_result",
          "data": {
            "text/plain": [
              "<__main__.pwskills2 at 0x7b1e75488be0>"
            ]
          },
          "metadata": {},
          "execution_count": 23
        }
      ]
    },
    {
      "cell_type": "code",
      "source": [
        "sudh.phone_number1"
      ],
      "metadata": {
        "colab": {
          "base_uri": "https://localhost:8080/"
        },
        "id": "jbeHF2Rdo6V7",
        "outputId": "3c0d9c22-b9d1-4b06-d3c3-68a7dff02413"
      },
      "execution_count": null,
      "outputs": [
        {
          "output_type": "execute_result",
          "data": {
            "text/plain": [
              "96790875733"
            ]
          },
          "metadata": {},
          "execution_count": 29
        }
      ]
    },
    {
      "cell_type": "code",
      "source": [
        "sudh.return_student_details()"
      ],
      "metadata": {
        "colab": {
          "base_uri": "https://localhost:8080/"
        },
        "id": "0cHZwrHYpCUj",
        "outputId": "c9e7acd5-402c-4423-ad48-1772cfdb20c5"
      },
      "execution_count": 24,
      "outputs": [
        {
          "output_type": "execute_result",
          "data": {
            "text/plain": [
              "(96790875733, 'sudh@gmail.com', 103)"
            ]
          },
          "metadata": {},
          "execution_count": 24
        }
      ]
    },
    {
      "cell_type": "code",
      "source": [
        "class pwskills2:\n",
        "  #Constructor\n",
        "  def __init__(sudh, phone_number, email_id, student_id):\n",
        "    sudh.phone_number1 = phone_number\n",
        "    sudh.email_id1 = email_id\n",
        "    sudh.student_id1 = student_id\n",
        "\n",
        "  def return_student_details(sudh):\n",
        "    return sudh.phone_number1, sudh.email_id1, sudh.student_id1"
      ],
      "metadata": {
        "id": "mKVXft2BpFzN"
      },
      "execution_count": 25,
      "outputs": []
    },
    {
      "cell_type": "code",
      "source": [
        "rohan = pwskills2(345678,'rohan@gmail.com',324)"
      ],
      "metadata": {
        "id": "BrtDE2hfqazj"
      },
      "execution_count": 26,
      "outputs": []
    },
    {
      "cell_type": "code",
      "source": [
        "rohan.phone_number1"
      ],
      "metadata": {
        "colab": {
          "base_uri": "https://localhost:8080/"
        },
        "id": "vi2hpUuTqrKw",
        "outputId": "aead2815-2359-4bae-abec-1fdded2307c1"
      },
      "execution_count": 27,
      "outputs": [
        {
          "output_type": "execute_result",
          "data": {
            "text/plain": [
              "345678"
            ]
          },
          "metadata": {},
          "execution_count": 27
        }
      ]
    },
    {
      "cell_type": "code",
      "source": [
        "class Person:\n",
        "  '''The class Person describe a person'''\n",
        "  count=0\n",
        "  def __init__(self, name, dob, address):\n",
        "    '''\n",
        "    Objective: To initialize object of class Person\n",
        "    Input Parameter: self (Implicit Parameter) - Object of type Person\n",
        "    name - string\n",
        "    DOB - String (Date of Birth)\n",
        "    address - string\n",
        "    Return Value: None\n",
        "    '''\n",
        "    self.name = name\n",
        "    self.dob = dob\n",
        "    self.address = address\n",
        "    Person.count+=1\n",
        "\n",
        "  def getName(self):\n",
        "    '''\n",
        "    Objective: To retrieve the name of Person\n",
        "    Input Parameter: self (Implicit Parameter) - Object of type Person\n",
        "    Return Value: name - string value\n",
        "    '''\n",
        "    return self.name\n",
        "  def getDOB(self):\n",
        "    '''\n",
        "    Objective: To retrieve the date of birth of Person\n",
        "    Input Parameter: self (Implicit Parameter) - Object of type Person\n",
        "\n",
        "    Return Value: DOB - string value\n",
        "    '''\n",
        "    return self.dob\n",
        "  def getAddress(self):\n",
        "    '''\n",
        "    Objective: To retreive address of Person\n",
        "    Input Parameter: self (Implicit Parameter) - Object of type Person\n",
        "    Return Value: address - string\n",
        "    '''\n",
        "    return self.address\n",
        "  def setName(self, name):\n",
        "    '''\n",
        "    Objective: To update name of Person\n",
        "    Input Parameter: self (Implicit Parameter) - Object of type Person\n",
        "    name - string value\n",
        "    Return Value: None\n",
        "    '''\n",
        "    self.name = name\n",
        "  def setDOB(self, dob):\n",
        "    '''\n",
        "    Objective: To update DOB of Person\n",
        "    Input Parameter: self (Implicit Parameter) - Object of type Person\n",
        "    dob - string value\n",
        "    Return Value: None\n",
        "    '''\n",
        "    self.dob = dob\n",
        "  def setAddress(self, address):\n",
        "    '''\n",
        "    Objective: To update address of Person\n",
        "    Input Parameter: self (Implicit Parameter) - Object of type Person\n",
        "    address - string value\n",
        "    Return Value: None\n",
        "    '''\n",
        "    self.address = address\n",
        "  def getCount(self):\n",
        "    '''\n",
        "    Objective: To get count of object of type Person\n",
        "    Input Parameter: self (Implicit Parameter) - Object of type Person\n",
        "    Return Value: numeric\n",
        "    '''\n",
        "    return Person.count\n",
        "  def __str__(self):\n",
        "    '''\n",
        "    Objective: To return string representation of object of type Person\n",
        "    Input Parameter: self (Implicit Parameter) - Object of type Person\n",
        "    Return Value: String\n",
        "    '''\n",
        "    return 'Name: '+self.name+'\\nDOB: '+self.dob+'\\nAddress: '+self.address\n",
        "\n",
        "p1 = Person('Amir', '24-10-1990', '38/4, IIT DELHI 110016')\n",
        "p2 = Person('Riya', '11-10-1992', 'C-3, Vivek Vihar, Delhi-92')"
      ],
      "metadata": {
        "id": "25VDEDZ2qzXM"
      },
      "execution_count": 28,
      "outputs": []
    },
    {
      "cell_type": "markdown",
      "source": [
        "Polymorphism"
      ],
      "metadata": {
        "id": "qr-nFW-xofbC"
      }
    },
    {
      "cell_type": "code",
      "source": [
        "def test(a,b):\n",
        "  return a+b"
      ],
      "metadata": {
        "id": "x7lOxMRMxaLl"
      },
      "execution_count": 29,
      "outputs": []
    },
    {
      "cell_type": "code",
      "source": [
        "test(3,4)"
      ],
      "metadata": {
        "colab": {
          "base_uri": "https://localhost:8080/"
        },
        "id": "pFp8-0fcojvs",
        "outputId": "516d2ed6-3af7-4d70-ef41-d3d6191b9e88"
      },
      "execution_count": 30,
      "outputs": [
        {
          "output_type": "execute_result",
          "data": {
            "text/plain": [
              "7"
            ]
          },
          "metadata": {},
          "execution_count": 30
        }
      ]
    },
    {
      "cell_type": "code",
      "source": [
        "test(\"Sankrita \", \"Patel\")"
      ],
      "metadata": {
        "colab": {
          "base_uri": "https://localhost:8080/",
          "height": 35
        },
        "id": "IJ_ZV66HolpC",
        "outputId": "61094fc8-c473-4323-a953-591a3bb29668"
      },
      "execution_count": 31,
      "outputs": [
        {
          "output_type": "execute_result",
          "data": {
            "text/plain": [
              "'Sankrita Patel'"
            ],
            "application/vnd.google.colaboratory.intrinsic+json": {
              "type": "string"
            }
          },
          "metadata": {},
          "execution_count": 31
        }
      ]
    },
    {
      "cell_type": "code",
      "source": [
        "test([1,2,3],[4,5,6])"
      ],
      "metadata": {
        "colab": {
          "base_uri": "https://localhost:8080/"
        },
        "id": "bf-5TrI9oreU",
        "outputId": "1612c3fc-7c68-40a2-ae22-31a45ceadb72"
      },
      "execution_count": 33,
      "outputs": [
        {
          "output_type": "execute_result",
          "data": {
            "text/plain": [
              "[1, 2, 3, 4, 5, 6]"
            ]
          },
          "metadata": {},
          "execution_count": 33
        }
      ]
    },
    {
      "cell_type": "code",
      "source": [
        "class data_science:\n",
        "\n",
        "  def syllabus(self):\n",
        "    print(\"This is my syllabus for data science masters.\")"
      ],
      "metadata": {
        "id": "ug5x54vBpCiO"
      },
      "execution_count": 34,
      "outputs": []
    },
    {
      "cell_type": "code",
      "source": [
        "class web_dev:\n",
        "  def syllabus(self):\n",
        "    print(\"THis is my syllabus for web dev.\")"
      ],
      "metadata": {
        "id": "mUTRclMJpX_9"
      },
      "execution_count": 35,
      "outputs": []
    },
    {
      "cell_type": "code",
      "source": [
        "def class_parcer(class_obj):\n",
        "  for i in class_obj:\n",
        "    i.syllabus()"
      ],
      "metadata": {
        "id": "uR3FBkM0piyB"
      },
      "execution_count": 36,
      "outputs": []
    },
    {
      "cell_type": "code",
      "source": [
        "data_science = data_science()"
      ],
      "metadata": {
        "id": "nA61n16_pzos"
      },
      "execution_count": 37,
      "outputs": []
    },
    {
      "cell_type": "code",
      "source": [
        "web_dev = web_dev()"
      ],
      "metadata": {
        "id": "I4Denb4jp3W0"
      },
      "execution_count": 39,
      "outputs": []
    },
    {
      "cell_type": "code",
      "source": [
        "class_obj = [data_science, web_dev]"
      ],
      "metadata": {
        "id": "9QVeGagXp6Vi"
      },
      "execution_count": 40,
      "outputs": []
    },
    {
      "cell_type": "code",
      "source": [
        "class_parcer(class_obj)"
      ],
      "metadata": {
        "colab": {
          "base_uri": "https://localhost:8080/"
        },
        "id": "f5iSt3wwqAGv",
        "outputId": "027861b7-56bd-4565-8269-850840878e33"
      },
      "execution_count": 41,
      "outputs": [
        {
          "output_type": "stream",
          "name": "stdout",
          "text": [
            "This is my syllabus for data science masters.\n",
            "THis is my syllabus for web dev.\n"
          ]
        }
      ]
    },
    {
      "cell_type": "markdown",
      "source": [
        "Encapsulation"
      ],
      "metadata": {
        "id": "1Dyo_xc-sDxh"
      }
    },
    {
      "cell_type": "code",
      "source": [
        "class test:\n",
        "\n",
        "  def __init__(self, a, b):\n",
        "    self.a = a\n",
        "    self.b = b"
      ],
      "metadata": {
        "id": "t3DP43YGqD_w"
      },
      "execution_count": 42,
      "outputs": []
    },
    {
      "cell_type": "code",
      "source": [
        "t = test(23, 24)"
      ],
      "metadata": {
        "id": "FKqbjicMsNGr"
      },
      "execution_count": 43,
      "outputs": []
    },
    {
      "cell_type": "code",
      "source": [
        "t.a = 234"
      ],
      "metadata": {
        "id": "K2q0F6mysPsB"
      },
      "execution_count": 44,
      "outputs": []
    },
    {
      "cell_type": "code",
      "source": [
        "t.a"
      ],
      "metadata": {
        "colab": {
          "base_uri": "https://localhost:8080/"
        },
        "id": "gKHQ0myWsTiT",
        "outputId": "33593d62-2c8b-48dd-b3a9-d40278029ed8"
      },
      "execution_count": 45,
      "outputs": [
        {
          "output_type": "execute_result",
          "data": {
            "text/plain": [
              "234"
            ]
          },
          "metadata": {},
          "execution_count": 45
        }
      ]
    },
    {
      "cell_type": "code",
      "source": [
        "class car:\n",
        "  def __init__(self, year, make, model, speed):\n",
        "    self.__year = year #Hide from User use double underscore(__)\n",
        "    self.__make = make\n",
        "    self.__model = model\n",
        "    self.__speed = 0\n",
        "\n",
        "  def set_speed(self, speed):\n",
        "    self.__speed = 0 if speed<0 else speed\n",
        "\n",
        "  def get_speed(self):\n",
        "    return self.__speed"
      ],
      "metadata": {
        "id": "J-ZZrab8sUT2"
      },
      "execution_count": 56,
      "outputs": []
    },
    {
      "cell_type": "code",
      "source": [
        "c = car(2021, \"Toyata\", \"Inova\", 12)"
      ],
      "metadata": {
        "id": "uUtpXlY1t4CU"
      },
      "execution_count": 57,
      "outputs": []
    },
    {
      "cell_type": "code",
      "source": [
        "c.year"
      ],
      "metadata": {
        "colab": {
          "base_uri": "https://localhost:8080/",
          "height": 175
        },
        "id": "-JES3uDruBBt",
        "outputId": "1ce770ed-7eac-4f9a-dfcc-3facfd0fac42"
      },
      "execution_count": 58,
      "outputs": [
        {
          "output_type": "error",
          "ename": "AttributeError",
          "evalue": "ignored",
          "traceback": [
            "\u001b[0;31m---------------------------------------------------------------------------\u001b[0m",
            "\u001b[0;31mAttributeError\u001b[0m                            Traceback (most recent call last)",
            "\u001b[0;32m<ipython-input-58-03945b7a36ec>\u001b[0m in \u001b[0;36m<cell line: 1>\u001b[0;34m()\u001b[0m\n\u001b[0;32m----> 1\u001b[0;31m \u001b[0mc\u001b[0m\u001b[0;34m.\u001b[0m\u001b[0myear\u001b[0m\u001b[0;34m\u001b[0m\u001b[0;34m\u001b[0m\u001b[0m\n\u001b[0m",
            "\u001b[0;31mAttributeError\u001b[0m: 'car' object has no attribute 'year'"
          ]
        }
      ]
    },
    {
      "cell_type": "code",
      "source": [
        "c._car__year"
      ],
      "metadata": {
        "colab": {
          "base_uri": "https://localhost:8080/"
        },
        "id": "dwXBiHRMuJ1X",
        "outputId": "53c8b440-c558-437c-b6a3-c97f8741fabd"
      },
      "execution_count": 59,
      "outputs": [
        {
          "output_type": "execute_result",
          "data": {
            "text/plain": [
              "2021"
            ]
          },
          "metadata": {},
          "execution_count": 59
        }
      ]
    },
    {
      "cell_type": "code",
      "source": [
        "c.get_speed()"
      ],
      "metadata": {
        "colab": {
          "base_uri": "https://localhost:8080/"
        },
        "id": "nhtTshu3vlty",
        "outputId": "b916069c-1efe-46d3-c0a3-6b2e51a34f9c"
      },
      "execution_count": 60,
      "outputs": [
        {
          "output_type": "execute_result",
          "data": {
            "text/plain": [
              "0"
            ]
          },
          "metadata": {},
          "execution_count": 60
        }
      ]
    },
    {
      "cell_type": "code",
      "source": [
        "c.set_speed(234)"
      ],
      "metadata": {
        "id": "aY1k-7sJuL2d"
      },
      "execution_count": 62,
      "outputs": []
    },
    {
      "cell_type": "code",
      "source": [
        "c.get_speed()"
      ],
      "metadata": {
        "colab": {
          "base_uri": "https://localhost:8080/"
        },
        "id": "RBn0ZfEqvYUK",
        "outputId": "649aca18-5f56-4d04-f5e3-920017e3d8da"
      },
      "execution_count": 63,
      "outputs": [
        {
          "output_type": "execute_result",
          "data": {
            "text/plain": [
              "234"
            ]
          },
          "metadata": {},
          "execution_count": 63
        }
      ]
    },
    {
      "cell_type": "code",
      "source": [
        "class bank_account:\n",
        "  def __init__(self, balance):\n",
        "    self.__balance = balance\n",
        "\n",
        "  def deposit(self, amount):\n",
        "    self.__balance = self.__balance+amount\n",
        "\n",
        "  def withdraw(self, amount):\n",
        "    if self.__balance>=amount:\n",
        "      self.__balance = self.__balance - amount\n",
        "      return True\n",
        "    else:\n",
        "      return False\n",
        "\n",
        "  def get_balance(self):\n",
        "    return self.__balance"
      ],
      "metadata": {
        "id": "HMy_stlpwkRh"
      },
      "execution_count": 65,
      "outputs": []
    },
    {
      "cell_type": "code",
      "source": [
        "acc = bank_account(1000)"
      ],
      "metadata": {
        "id": "uZub2ynwx0rs"
      },
      "execution_count": 66,
      "outputs": []
    },
    {
      "cell_type": "code",
      "source": [
        "acc.get_balance()"
      ],
      "metadata": {
        "colab": {
          "base_uri": "https://localhost:8080/"
        },
        "id": "dv_dfyNWx7pi",
        "outputId": "ddf895d4-2d52-4567-eed2-fe58bcfe8ecf"
      },
      "execution_count": 67,
      "outputs": [
        {
          "output_type": "execute_result",
          "data": {
            "text/plain": [
              "1000"
            ]
          },
          "metadata": {},
          "execution_count": 67
        }
      ]
    },
    {
      "cell_type": "code",
      "source": [
        "acc.deposit(5000)"
      ],
      "metadata": {
        "id": "x9ptpWSxyCmd"
      },
      "execution_count": 68,
      "outputs": []
    },
    {
      "cell_type": "code",
      "source": [
        "acc.get_balance()"
      ],
      "metadata": {
        "colab": {
          "base_uri": "https://localhost:8080/"
        },
        "id": "gsQ5lXjkyGco",
        "outputId": "57ae952d-6161-41b5-e9e1-b58334045b50"
      },
      "execution_count": 69,
      "outputs": [
        {
          "output_type": "execute_result",
          "data": {
            "text/plain": [
              "6000"
            ]
          },
          "metadata": {},
          "execution_count": 69
        }
      ]
    },
    {
      "cell_type": "code",
      "source": [
        "acc.deposit(1000)"
      ],
      "metadata": {
        "id": "MD3LY_k6yJt2"
      },
      "execution_count": 71,
      "outputs": []
    },
    {
      "cell_type": "code",
      "source": [
        "acc.withdraw(9000)"
      ],
      "metadata": {
        "colab": {
          "base_uri": "https://localhost:8080/"
        },
        "id": "m8OGEa-HyTGc",
        "outputId": "ec4eedab-1425-412b-d36e-6ba24b25bd5c"
      },
      "execution_count": 72,
      "outputs": [
        {
          "output_type": "execute_result",
          "data": {
            "text/plain": [
              "False"
            ]
          },
          "metadata": {},
          "execution_count": 72
        }
      ]
    },
    {
      "cell_type": "code",
      "source": [
        "acc.withdraw(2000)"
      ],
      "metadata": {
        "colab": {
          "base_uri": "https://localhost:8080/"
        },
        "id": "rxzdfGF9yWyp",
        "outputId": "647cb11b-420d-425d-c01f-8a8b91e7cf6f"
      },
      "execution_count": 73,
      "outputs": [
        {
          "output_type": "execute_result",
          "data": {
            "text/plain": [
              "True"
            ]
          },
          "metadata": {},
          "execution_count": 73
        }
      ]
    },
    {
      "cell_type": "code",
      "source": [
        "acc.get_balance()"
      ],
      "metadata": {
        "colab": {
          "base_uri": "https://localhost:8080/"
        },
        "id": "bejwxhbUyklB",
        "outputId": "06425216-d1b4-49d1-c9cf-a17f13594313"
      },
      "execution_count": 74,
      "outputs": [
        {
          "output_type": "execute_result",
          "data": {
            "text/plain": [
              "5000"
            ]
          },
          "metadata": {},
          "execution_count": 74
        }
      ]
    },
    {
      "cell_type": "markdown",
      "source": [
        "Inheritance"
      ],
      "metadata": {
        "id": "CS_LCTu3-s_8"
      }
    },
    {
      "cell_type": "code",
      "source": [
        "class test:\n",
        "  def test_math(self):\n",
        "    return \"This is y first class.\"\n",
        "\n",
        "class child_test(test):\n",
        "  pass\n",
        "\n",
        "child_test_obj = child_test()\n",
        "child_test_obj.test_math()"
      ],
      "metadata": {
        "colab": {
          "base_uri": "https://localhost:8080/",
          "height": 35
        },
        "id": "Y49XoO2HyoNy",
        "outputId": "386227c8-d328-4d6d-8e7b-92a0c32e2013"
      },
      "execution_count": 75,
      "outputs": [
        {
          "output_type": "execute_result",
          "data": {
            "text/plain": [
              "'This is y first class.'"
            ],
            "application/vnd.google.colaboratory.intrinsic+json": {
              "type": "string"
            }
          },
          "metadata": {},
          "execution_count": 75
        }
      ]
    },
    {
      "cell_type": "code",
      "source": [
        "#Multilevel Inheritance\n",
        "class class1:\n",
        "  def test_class1(self):\n",
        "    return \" This is a method from class1.\"\n",
        "\n",
        "class class2(class1):\n",
        "  def test_class2(self):\n",
        "    return \"THis is a method from class2.\"\n",
        "\n",
        "class class3(class2):\n",
        "  pass\n"
      ],
      "metadata": {
        "id": "HW6rg9N6_iRa"
      },
      "execution_count": 78,
      "outputs": []
    },
    {
      "cell_type": "code",
      "source": [
        "obj_class3 = class3()\n",
        "obj_class3.test_class1()"
      ],
      "metadata": {
        "colab": {
          "base_uri": "https://localhost:8080/",
          "height": 35
        },
        "id": "CIqWOtVVBHft",
        "outputId": "1ac2ac77-5e9a-4bf1-e8f7-9b63be20e79c"
      },
      "execution_count": 79,
      "outputs": [
        {
          "output_type": "execute_result",
          "data": {
            "text/plain": [
              "' This is a method from class1.'"
            ],
            "application/vnd.google.colaboratory.intrinsic+json": {
              "type": "string"
            }
          },
          "metadata": {},
          "execution_count": 79
        }
      ]
    },
    {
      "cell_type": "code",
      "source": [
        "obj_class3 = class3()\n",
        "obj_class3.test_class2()"
      ],
      "metadata": {
        "colab": {
          "base_uri": "https://localhost:8080/",
          "height": 35
        },
        "id": "mStv1c_1BaT-",
        "outputId": "5404988c-11cc-461e-8f2b-792681f76b0e"
      },
      "execution_count": 80,
      "outputs": [
        {
          "output_type": "execute_result",
          "data": {
            "text/plain": [
              "'THis is a method from class2.'"
            ],
            "application/vnd.google.colaboratory.intrinsic+json": {
              "type": "string"
            }
          },
          "metadata": {},
          "execution_count": 80
        }
      ]
    },
    {
      "cell_type": "code",
      "source": [
        "#Multiple Inheritance\n",
        "class class1:\n",
        "  def test_class1(self):\n",
        "    return \"This is a class1.\"\n",
        "\n",
        "class class2:\n",
        "  def test_class2(self):\n",
        "    return \"This is a class2.\"\n",
        "\n",
        "class class3(class1, class2):\n",
        "  pass\n"
      ],
      "metadata": {
        "id": "6yc3_5pvBeC-"
      },
      "execution_count": 81,
      "outputs": []
    },
    {
      "cell_type": "code",
      "source": [
        "obj_class3 = class3()\n",
        "obj_class3.test_class1()"
      ],
      "metadata": {
        "colab": {
          "base_uri": "https://localhost:8080/",
          "height": 35
        },
        "id": "L5v2no1jJ2jk",
        "outputId": "5a4691ca-ae1f-4d11-c355-39590cbc0fc6"
      },
      "execution_count": 82,
      "outputs": [
        {
          "output_type": "execute_result",
          "data": {
            "text/plain": [
              "'This is a class1.'"
            ],
            "application/vnd.google.colaboratory.intrinsic+json": {
              "type": "string"
            }
          },
          "metadata": {},
          "execution_count": 82
        }
      ]
    },
    {
      "cell_type": "code",
      "source": [
        "obj_class3.test_class2()"
      ],
      "metadata": {
        "colab": {
          "base_uri": "https://localhost:8080/",
          "height": 35
        },
        "id": "JTMMPgkQJ-FO",
        "outputId": "03cc2823-0a06-41a5-8ef6-09617c2fb5da"
      },
      "execution_count": 83,
      "outputs": [
        {
          "output_type": "execute_result",
          "data": {
            "text/plain": [
              "'This is a class2.'"
            ],
            "application/vnd.google.colaboratory.intrinsic+json": {
              "type": "string"
            }
          },
          "metadata": {},
          "execution_count": 83
        }
      ]
    },
    {
      "cell_type": "markdown",
      "source": [
        "Abstract class"
      ],
      "metadata": {
        "id": "vBbbk2mEKd47"
      }
    },
    {
      "cell_type": "code",
      "source": [
        "import abc\n",
        "class pwskills:\n",
        "  @abc.abstractmethod\n",
        "  def students_details(self):\n",
        "    pass\n",
        "\n",
        "  @abc.abstractmethod\n",
        "  def students_assignment(self):\n",
        "    pass\n",
        "  @abc.abstractmethod\n",
        "  def student_marks(self):\n",
        "    pass\n",
        "\n",
        "class student_details(pwskills):\n",
        "  def students_details(self):\n",
        "    return \"This is a metod for taking students details.\"\n",
        "\n",
        "  def students_assignment(self):\n",
        "    return \"this is a method for assignment details.\"\n",
        "\n",
        "class data_science_master(pwskills):\n",
        "  def students_details(self):\n",
        "    return \"This will return a student detail for data science master.\"\n",
        "  def students_assignment(self):\n",
        "    return \"This will return a assignment detail for data science master.\""
      ],
      "metadata": {
        "id": "ufowqtBVKBru"
      },
      "execution_count": 84,
      "outputs": []
    },
    {
      "cell_type": "code",
      "source": [
        "data = data_science_master()\n",
        "data.students_details()"
      ],
      "metadata": {
        "colab": {
          "base_uri": "https://localhost:8080/",
          "height": 35
        },
        "id": "AysmdSe0MYQt",
        "outputId": "788bebea-83b2-4e4a-81bc-e2e848f52688"
      },
      "execution_count": 85,
      "outputs": [
        {
          "output_type": "execute_result",
          "data": {
            "text/plain": [
              "'This will return a student detail for data science master.'"
            ],
            "application/vnd.google.colaboratory.intrinsic+json": {
              "type": "string"
            }
          },
          "metadata": {},
          "execution_count": 85
        }
      ]
    },
    {
      "cell_type": "code",
      "source": [
        "data2 = student_details()\n",
        "data2.students_details()"
      ],
      "metadata": {
        "colab": {
          "base_uri": "https://localhost:8080/",
          "height": 35
        },
        "id": "EF5fmrJFMfyk",
        "outputId": "08ea0d20-fb12-4554-e36a-0b4acf3f2209"
      },
      "execution_count": 86,
      "outputs": [
        {
          "output_type": "execute_result",
          "data": {
            "text/plain": [
              "'This is a metod for taking students details.'"
            ],
            "application/vnd.google.colaboratory.intrinsic+json": {
              "type": "string"
            }
          },
          "metadata": {},
          "execution_count": 86
        }
      ]
    }
  ]
}