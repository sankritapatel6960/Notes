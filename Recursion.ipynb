{
  "nbformat": 4,
  "nbformat_minor": 0,
  "metadata": {
    "colab": {
      "provenance": [],
      "authorship_tag": "ABX9TyO+JKL6LzvJY15YB3sQT5HE",
      "include_colab_link": true
    },
    "kernelspec": {
      "name": "python3",
      "display_name": "Python 3"
    },
    "language_info": {
      "name": "python"
    }
  },
  "cells": [
    {
      "cell_type": "markdown",
      "metadata": {
        "id": "view-in-github",
        "colab_type": "text"
      },
      "source": [
        "<a href=\"https://colab.research.google.com/github/SankritaPatel/Notes/blob/main/Recursion.ipynb\" target=\"_parent\"><img src=\"https://colab.research.google.com/assets/colab-badge.svg\" alt=\"Open In Colab\"/></a>"
      ]
    },
    {
      "cell_type": "code",
      "source": [
        "# print n to 1\n",
        "def printNumber(n):\n",
        "  if(n==0):\n",
        "    return\n",
        "  print(n)\n",
        "  printNumber(n-1)\n",
        "\n",
        "printNumber(5)"
      ],
      "metadata": {
        "colab": {
          "base_uri": "https://localhost:8080/"
        },
        "id": "wXnmeZoVGive",
        "outputId": "9bb51b58-72b4-49c2-dbde-fe1b2d5d5a2a"
      },
      "execution_count": null,
      "outputs": [
        {
          "output_type": "stream",
          "name": "stdout",
          "text": [
            "5\n",
            "4\n",
            "3\n",
            "2\n",
            "1\n"
          ]
        }
      ]
    },
    {
      "cell_type": "code",
      "execution_count": null,
      "metadata": {
        "colab": {
          "base_uri": "https://localhost:8080/"
        },
        "id": "V-rJnElkGEzI",
        "outputId": "669f5496-7c43-4997-de2e-dd75845961af"
      },
      "outputs": [
        {
          "output_type": "stream",
          "name": "stdout",
          "text": [
            "1\n",
            "2\n",
            "3\n",
            "4\n",
            "5\n"
          ]
        }
      ],
      "source": [
        "# Print 1 to N\n",
        "def printNumber(n):\n",
        "  if(n==0):\n",
        "    return\n",
        "  printNumber(n-1)\n",
        "  print(n)\n",
        "\n",
        "printNumber(5)"
      ]
    },
    {
      "cell_type": "code",
      "source": [
        "# print 1 to N (Even Num)\n",
        "def printEvenNumber(n):\n",
        "  if(n==0):\n",
        "    return\n",
        "  printEvenNumber(n-2)\n",
        "  print(n)\n",
        "n = int(input())\n",
        "if n%2!=0:\n",
        "  n-=1\n",
        "printEvenNumber(n)"
      ],
      "metadata": {
        "colab": {
          "base_uri": "https://localhost:8080/"
        },
        "id": "2H0Vz4eSGVyg",
        "outputId": "b14e5722-fe1d-4903-a73c-ec0bb6d0474a"
      },
      "execution_count": null,
      "outputs": [
        {
          "output_type": "stream",
          "name": "stdout",
          "text": [
            "9\n",
            "2\n",
            "4\n",
            "6\n",
            "8\n"
          ]
        }
      ]
    },
    {
      "cell_type": "code",
      "source": [
        "# Factorial\n",
        "def fact(n):\n",
        "  if(n==0):\n",
        "    return 1\n",
        "  return n*fact(n-1)\n",
        "\n",
        "print(fact(5))"
      ],
      "metadata": {
        "id": "gBaIbdZtJ5AG",
        "colab": {
          "base_uri": "https://localhost:8080/"
        },
        "outputId": "816e98a8-d318-40e6-bdca-d6144bff4dac"
      },
      "execution_count": null,
      "outputs": [
        {
          "output_type": "stream",
          "name": "stdout",
          "text": [
            "120\n"
          ]
        }
      ]
    },
    {
      "cell_type": "code",
      "source": [
        "# Sum of N Number\n",
        "def sumN(n):\n",
        "  if(n==1):\n",
        "    return 1\n",
        "  return n+sumN(n-1)\n",
        "\n",
        "print(sumN(5))\n"
      ],
      "metadata": {
        "colab": {
          "base_uri": "https://localhost:8080/"
        },
        "id": "vRf3jmbl9Nyp",
        "outputId": "ed7547b1-6e67-4bc1-fc2d-449fa0b93945"
      },
      "execution_count": null,
      "outputs": [
        {
          "output_type": "stream",
          "name": "stdout",
          "text": [
            "15\n"
          ]
        }
      ]
    },
    {
      "cell_type": "code",
      "source": [
        "# Power of two\n",
        "def power(n):\n",
        "  if(n==0):\n",
        "    return 1\n",
        "  return 2*power(n-1)\n",
        "\n",
        "print(power(5))"
      ],
      "metadata": {
        "colab": {
          "base_uri": "https://localhost:8080/"
        },
        "id": "7ruz28ocA7zd",
        "outputId": "a197e1da-8998-46b1-823d-67266cb79c31"
      },
      "execution_count": null,
      "outputs": [
        {
          "output_type": "stream",
          "name": "stdout",
          "text": [
            "32\n"
          ]
        }
      ]
    },
    {
      "cell_type": "code",
      "source": [
        "# Sum of square of N number\n",
        "def sumSquare(n):\n",
        "  if(n==1):\n",
        "    return 1\n",
        "  return n*n+sumSquare(n-1)\n",
        "\n",
        "print(sumSquare(5))"
      ],
      "metadata": {
        "colab": {
          "base_uri": "https://localhost:8080/"
        },
        "id": "j9R2DVE-DTqO",
        "outputId": "988149be-67b9-42dd-97cc-664b1a87c7e0"
      },
      "execution_count": null,
      "outputs": [
        {
          "output_type": "stream",
          "name": "stdout",
          "text": [
            "55\n"
          ]
        }
      ]
    },
    {
      "cell_type": "code",
      "source": [
        "# Fibonacci Series\n",
        "def fib(n):\n",
        "  if(n==0 or n==1):\n",
        "    return n\n",
        "  return fib(n-1)+fib(n-2)\n",
        "\n",
        "print(fib(7))"
      ],
      "metadata": {
        "colab": {
          "base_uri": "https://localhost:8080/"
        },
        "id": "P1oaPzAEFMre",
        "outputId": "d6a91458-2208-4f14-ce2b-2dd8921b90a1"
      },
      "execution_count": null,
      "outputs": [
        {
          "output_type": "stream",
          "name": "stdout",
          "text": [
            "13\n"
          ]
        }
      ]
    },
    {
      "cell_type": "markdown",
      "source": [
        "Recursion in array"
      ],
      "metadata": {
        "id": "OyW8BdTgvThh"
      }
    },
    {
      "cell_type": "code",
      "source": [
        "arr = [3,7,6,2,8]\n",
        "def printArray(arr, index):\n",
        "  if(index==len(arr)):\n",
        "    return\n",
        "  print(arr[index], end=\" \")\n",
        "  printArray(arr, index+1)\n",
        "printArray(arr, 0)\n",
        ""
      ],
      "metadata": {
        "id": "suS0_KXrHCwk",
        "colab": {
          "base_uri": "https://localhost:8080/"
        },
        "outputId": "5fa43429-4b67-42cc-fd8f-1a8dbb1bdd16"
      },
      "execution_count": 3,
      "outputs": [
        {
          "output_type": "stream",
          "name": "stdout",
          "text": [
            "3 7 6 2 8 "
          ]
        }
      ]
    },
    {
      "cell_type": "code",
      "source": [
        "arr = [3,7,6,2,8]\n",
        "def printArray(arr, index):\n",
        "  if(index==len(arr)):\n",
        "    return\n",
        "  printArray(arr, index+1)\n",
        "  print(arr[index], end=\" \")\n",
        "printArray(arr, 0)"
      ],
      "metadata": {
        "colab": {
          "base_uri": "https://localhost:8080/"
        },
        "id": "Q5hKfp8VsuNb",
        "outputId": "9a56a863-1223-4e85-c8c7-720b2e67553e"
      },
      "execution_count": 4,
      "outputs": [
        {
          "output_type": "stream",
          "name": "stdout",
          "text": [
            "8 2 6 7 3 "
          ]
        }
      ]
    },
    {
      "cell_type": "code",
      "source": [
        "arr = [3,7,6,2,8]\n",
        "def printArray(arr, index):\n",
        "  if(index==-1):\n",
        "    return\n",
        "  print(arr[index], end=\" \")\n",
        "  printArray(arr, index-1)\n",
        "printArray(arr, len(arr)-1)"
      ],
      "metadata": {
        "colab": {
          "base_uri": "https://localhost:8080/"
        },
        "id": "IWgcwPxYuhEm",
        "outputId": "60193405-dd1e-4a14-c920-2e46f1162842"
      },
      "execution_count": 5,
      "outputs": [
        {
          "output_type": "stream",
          "name": "stdout",
          "text": [
            "8 2 6 7 3 "
          ]
        }
      ]
    },
    {
      "cell_type": "code",
      "source": [
        "arr = [3,7,6,2,8]\n",
        "def printArray(arr, index):\n",
        "  if(index==-1):\n",
        "    return\n",
        "  printArray(arr, index-1)\n",
        "  print(arr[index], end=\" \")\n",
        "printArray(arr, len(arr)-1)"
      ],
      "metadata": {
        "colab": {
          "base_uri": "https://localhost:8080/"
        },
        "id": "PF0lIPQsu5U-",
        "outputId": "5d166bd9-e15e-4801-a6e8-df7e5b9d05a5"
      },
      "execution_count": 6,
      "outputs": [
        {
          "output_type": "stream",
          "name": "stdout",
          "text": [
            "3 7 6 2 8 "
          ]
        }
      ]
    },
    {
      "cell_type": "code",
      "source": [
        "# Sum of all element\n",
        "def sumElement(arr, index):\n",
        "  if(index==len(arr)):\n",
        "    return 0\n",
        "  return arr[index]+sumElement(arr, index+1)\n",
        "arr = [3,4,5,8,2]\n",
        "print(sumElement(arr, 0))\n"
      ],
      "metadata": {
        "colab": {
          "base_uri": "https://localhost:8080/"
        },
        "id": "Aet25zHGvNzq",
        "outputId": "7d0f2a83-2985-43c6-df2a-28142735ab15"
      },
      "execution_count": 11,
      "outputs": [
        {
          "output_type": "stream",
          "name": "stdout",
          "text": [
            "22\n"
          ]
        }
      ]
    },
    {
      "cell_type": "code",
      "source": [
        "def sumElement(arr, index):\n",
        "  if(index==-1):\n",
        "    return 0\n",
        "  return sumElement(arr, index-1)+arr[index]\n",
        "arr = [3,4,5,8,2]\n",
        "print(sumElement(arr, len(arr)-1))"
      ],
      "metadata": {
        "colab": {
          "base_uri": "https://localhost:8080/"
        },
        "id": "Rdp5tvXnwGS-",
        "outputId": "61473228-3f31-436f-8bd4-19faa637efc0"
      },
      "execution_count": 14,
      "outputs": [
        {
          "output_type": "stream",
          "name": "stdout",
          "text": [
            "22\n"
          ]
        }
      ]
    },
    {
      "cell_type": "code",
      "source": [
        "# Minimum element in array\n",
        "def minimum(arr, idx):\n",
        "  if idx==len(arr)-1:\n",
        "    return arr[idx]\n",
        "  return min(arr[idx], minimum(arr, idx+1))\n",
        "\n",
        "arr = [7,2,4,1,6]\n",
        "print(minimum(arr, 0))\n"
      ],
      "metadata": {
        "colab": {
          "base_uri": "https://localhost:8080/"
        },
        "id": "0mrb9XHIyWw1",
        "outputId": "41f1d4f8-7322-49b2-b26b-440e8e4f51a9"
      },
      "execution_count": 19,
      "outputs": [
        {
          "output_type": "stream",
          "name": "stdout",
          "text": [
            "1\n"
          ]
        }
      ]
    },
    {
      "cell_type": "code",
      "source": [
        "# Find the Maximum element in a given array of size N\n",
        "def maximum(arr, idx):\n",
        "  if idx==len(arr)-1:\n",
        "    return arr[idx]\n",
        "  return max(arr[idx], maximum(arr, idx+1))\n",
        "\n",
        "arr = [7,2,4,1,6]\n",
        "print(maximum(arr, 0))\n"
      ],
      "metadata": {
        "colab": {
          "base_uri": "https://localhost:8080/"
        },
        "id": "3lJA52qHzUPm",
        "outputId": "0465baa5-3984-42d0-e477-6a427f82b79e"
      },
      "execution_count": 20,
      "outputs": [
        {
          "output_type": "stream",
          "name": "stdout",
          "text": [
            "7\n"
          ]
        }
      ]
    },
    {
      "cell_type": "code",
      "source": [
        "#Find the Product of all elements in a given array of size N.\n",
        "def sumElement(arr, index):\n",
        "  if(index==-1):\n",
        "    return 1\n",
        "  return sumElement(arr, index-1)*arr[index]\n",
        "arr = [3,4,5,8,2]\n",
        "print(sumElement(arr, len(arr)-1))\n"
      ],
      "metadata": {
        "colab": {
          "base_uri": "https://localhost:8080/"
        },
        "id": "uaublSId0XmZ",
        "outputId": "417ae914-67f1-49f9-dcd9-398d3eb336e4"
      },
      "execution_count": 21,
      "outputs": [
        {
          "output_type": "stream",
          "name": "stdout",
          "text": [
            "960\n"
          ]
        }
      ]
    }
  ]
}